{
 "cells": [
  {
   "cell_type": "code",
   "execution_count": 11,
   "metadata": {},
   "outputs": [],
   "source": [
    "from matplotlib import pyplot as plt\n",
    "import numpy as np\n",
    "from linReg import *\n",
    "import csv\n",
    "from math import exp"
   ]
  },
  {
   "cell_type": "code",
   "execution_count": 28,
   "metadata": {},
   "outputs": [],
   "source": [
    "X,Y = [],[]\n",
    "\n",
    "# tranformation functions to normalize data\n",
    "def trMinMax(x, m, M):\n",
    "    return (x - m)/(M - m)\n",
    "\n",
    "def trLogistic(x):\n",
    "    return 1/(1 + exp(-x))\n",
    "\n",
    "# open and format data \n",
    "with open('car data.csv', mode='r') as csv_file:\n",
    "    csv_reader = csv.DictReader(csv_file)\n",
    "    for row in csv_reader:\n",
    "        X.append(int(row[\"speed\"]))\n",
    "        Y.append(int(row[\"dist\"]))\n"
   ]
  },
  {
   "cell_type": "markdown",
   "metadata": {},
   "source": [
    "### using Min-Max transformer"
   ]
  },
  {
   "cell_type": "code",
   "execution_count": 29,
   "metadata": {},
   "outputs": [],
   "source": [
    "# data normalization\n",
    "mx, Mx, my, My = min(X),max(X),min(Y),max(Y)\n",
    "\n",
    "for i in range(len(X)):\n",
    "    # using max-min tranformer\n",
    "    X[i], Y[i] = trMinMax(X[i],mx,Mx), trMinMax(Y[i], my,My)"
   ]
  },
  {
   "cell_type": "markdown",
   "metadata": {},
   "source": [
    "### using Logistic transformer"
   ]
  },
  {
   "cell_type": "code",
   "execution_count": 19,
   "metadata": {},
   "outputs": [],
   "source": [
    "for i in range(len(X)):\n",
    "    # using logitic transformer\n",
    "    X[i], Y[i] = trLogistic(X[i]), trLogistic(Y[i])"
   ]
  },
  {
   "cell_type": "markdown",
   "metadata": {},
   "source": [
    "### using method 1 of linear regression (gradient descent)"
   ]
  },
  {
   "cell_type": "code",
   "execution_count": 26,
   "metadata": {},
   "outputs": [
    {
     "name": "stdout",
     "output_type": "stream",
     "text": [
      "Optimal slope = 0.29185873849564536 | Optimal intercept = 0.19974572817621056\n",
      "Empirical Error Value = 0.026768030233593358\n"
     ]
    },
    {
     "data": {
      "image/png": "[encoded data removed]",
      "text/plain": [
       "<Figure size 432x288 with 1 Axes>"
      ]
     },
     "metadata": {
      "needs_background": "light"
     },
     "output_type": "display_data"
    }
   ],
   "source": [
    "# calculate the regression hyperplan slop and intercept (2D case)\n",
    "iter = 1000\n",
    "a, b = 0, 0\n",
    "for e in range(iter):\n",
    "    a, b = gradient(a,b,X,Y,0.003)\n",
    "\n",
    "    # # show results\n",
    "print(\"Optimal slope =\",a , \"| Optimal intercept =\",b)\n",
    "print(\"Empirical Error Value =\", loss(a,b,X,Y))\n",
    "\n",
    "# # plot results\n",
    "plt.plot(X,Y,'o',color=\"green\")\n",
    "plt.plot(np.linspace(0,1,10), [a * x + b for x in np.linspace(0,1,10)], color=\"red\")\n",
    "plt.show()"
   ]
  },
  {
   "cell_type": "markdown",
   "metadata": {},
   "source": [
    "### using method 2 of linear regression (linear lagebra solver / Least Square Algorithm)"
   ]
  },
  {
   "cell_type": "code",
   "execution_count": 30,
   "metadata": {},
   "outputs": [
    {
     "name": "stdout",
     "output_type": "stream",
     "text": [
      "Optimal slope = 0.739945211162768 | Optimal intercept = -0.048944982706468465\n",
      "Empirical Error Value = 0.8252529908207826\n"
     ]
    },
    {
     "data": {
      "image/png": "[encoded data removed]",
      "text/plain": [
       "<Figure size 432x288 with 1 Axes>"
      ]
     },
     "metadata": {
      "needs_background": "light"
     },
     "output_type": "display_data"
    }
   ],
   "source": [
    "# linear reagression with LSA\n",
    "a, b = linearReg(X,Y)\n",
    "\n",
    "# # show results\n",
    "print(\"Optimal slope =\",a , \"| Optimal intercept =\",b)\n",
    "print(\"Empirical Error Value =\", Lossf(X,Y))\n",
    "\n",
    "# # plot results\n",
    "plt.plot(X,Y,'o',color=\"green\")\n",
    "plt.plot(np.linspace(0,1,10), [a * x + b for x in np.linspace(0,1,10)], color=\"red\")\n",
    "plt.show()"
   ]
  }
 ],
 "metadata": {
  "kernelspec": {
   "display_name": "Python 3.8.0 64-bit",
   "language": "python",
   "name": "python3"
  },
  "language_info": {
   "codemirror_mode": {
    "name": "ipython",
    "version": 3
   },
   "file_extension": ".py",
   "mimetype": "text/x-python",
   "name": "python",
   "nbconvert_exporter": "python",
   "pygments_lexer": "ipython3",
   "version": "3.8.0"
  },
  "orig_nbformat": 4,
  "vscode": {
   "interpreter": {
    "hash": "b337b16e1f284c9fe7de692799556d56c1809887abe3f5a49ffeb9e7df151cfb"
   }
  }
 },
 "nbformat": 4,
 "nbformat_minor": 2
}
